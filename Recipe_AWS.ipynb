{
 "cells": [
  {
   "cell_type": "code",
   "execution_count": 44,
   "metadata": {},
   "outputs": [],
   "source": [
    "import psycopg2\n",
    "import pandas as pd\n",
    "import psycopg2.extras"
   ]
  },
  {
   "cell_type": "code",
   "execution_count": 12,
   "metadata": {},
   "outputs": [],
   "source": [
    "data=pd.read_json('train.json')"
   ]
  },
  {
   "cell_type": "code",
   "execution_count": 92,
   "metadata": {},
   "outputs": [],
   "source": [
    "# Connection to aws database\n",
    "conn=psycopg2.connect(host=\"postgres.ceqjkbpqdl8c.us-east-2.rds.amazonaws.com\",port=5432, user=\"user\",password=\"postgres\",database=\"suman\")"
   ]
  },
  {
   "cell_type": "code",
   "execution_count": 93,
   "metadata": {},
   "outputs": [],
   "source": [
    "# Cursor is used to communicate with database\n",
    "mycursor=conn.cursor()\n",
    "\n",
    "# It will autocommit canges in database for the session\n",
    "conn.set_session(autocommit=True)\n",
    "\n",
    "query1=\"CREATE TABLE dish(dish_id INT PRIMARY KEY, cuisine_id INT NOT NULL)\"\n",
    "query2=\"CREATE TABLE cuisine(cuisine_id INT PRIMARY KEY, name VARCHAR NOT NULL)\"\n",
    "query3=\"CREATE TABLE recipe(recipe_id INT PRIMARY KEY,dish_id INT NOT NULL, ing_id INT NOT NULL)\"\n",
    "query4=\"CREATE TABLE ingredients(ing_id INT PRIMARY KEY, name VARCHAR NOT NULL)\"\n",
    "query=[query1,query2,query3,query4]"
   ]
  },
  {
   "cell_type": "code",
   "execution_count": 94,
   "metadata": {},
   "outputs": [],
   "source": [
    "for i in query:\n",
    "    mycursor.execute(i) "
   ]
  },
  {
   "cell_type": "code",
   "execution_count": null,
   "metadata": {},
   "outputs": [],
   "source": []
  },
  {
   "cell_type": "code",
   "execution_count": 95,
   "metadata": {},
   "outputs": [],
   "source": [
    "# For ingredients-- making a list of ingredients\n",
    "ing_list=[]\n",
    "for i in data['ingredients']:\n",
    "    for j in i:\n",
    "        ing_list.append(j)\n",
    "ing_list=list(set(ing_list))\n",
    "\n",
    "# For making a tuple-list of type of cuisine\n",
    "cuisine_list=[]\n",
    "for i in data['cuisine']:\n",
    "    cuisine_list.append(i)\n",
    "cuisine_list=list(set(cuisine_list))"
   ]
  },
  {
   "cell_type": "code",
   "execution_count": 96,
   "metadata": {},
   "outputs": [
    {
     "data": {
      "text/plain": [
       "['russian', 'indian', 'korean', 'chinese', 'greek']"
      ]
     },
     "execution_count": 96,
     "metadata": {},
     "output_type": "execute_result"
    }
   ],
   "source": [
    "cuisine_list[0:5]\n"
   ]
  },
  {
   "cell_type": "code",
   "execution_count": 97,
   "metadata": {},
   "outputs": [],
   "source": [
    "# Inserting ingredients into the database table\n",
    "ing_listf=[]\n",
    "for i in ing_list:\n",
    "    ing_listf.append((ing_list.index(i)+1000,i))\n",
    "insert_query1 = 'INSERT INTO ingredients (ing_id,name) VALUES %s'\n",
    "psycopg2.extras.execute_values(mycursor, insert_query1, ing_listf, template=None, page_size=10000)"
   ]
  },
  {
   "cell_type": "code",
   "execution_count": 98,
   "metadata": {},
   "outputs": [],
   "source": [
    "# Inserting cuisine into the database table\n",
    "cuisine_listf=[]\n",
    "for i in cuisine_list:\n",
    "    cuisine_listf.append((cuisine_list.index(i)+10,i))\n",
    "insert_query2 = 'INSERT INTO cuisine (cuisine_id,name) VALUES %s'\n",
    "psycopg2.extras.execute_values(mycursor, insert_query2, cuisine_listf, template=None, page_size=10000)"
   ]
  },
  {
   "cell_type": "code",
   "execution_count": 99,
   "metadata": {},
   "outputs": [],
   "source": [
    "# Tuple list for table dish\n",
    "dish_listf=[]\n",
    "for (i,j) in zip(data[\"id\"],data['cuisine']):\n",
    "    dish_listf.append((i,cuisine_list.index(j)+10))\n",
    "insert_query3 = 'INSERT INTO dish (dish_id,cuisine_id) VALUES %s'\n",
    "psycopg2.extras.execute_values(mycursor, insert_query3, dish_listf, template=None, page_size=10000)"
   ]
  },
  {
   "cell_type": "code",
   "execution_count": 100,
   "metadata": {},
   "outputs": [],
   "source": [
    "# Tuple list for recipe table\n",
    "recipe_listf=[]\n",
    "recipe_id=110000\n",
    "for (i,j) in zip(data['id'],data['ingredients']):\n",
    "    for k in j:\n",
    "        recipe_listf.append((recipe_id,i,ing_list.index(k)))\n",
    "        recipe_id+=1"
   ]
  },
  {
   "cell_type": "code",
   "execution_count": 101,
   "metadata": {},
   "outputs": [
    {
     "data": {
      "text/plain": [
       "428275"
      ]
     },
     "execution_count": 101,
     "metadata": {},
     "output_type": "execute_result"
    }
   ],
   "source": [
    "len(recipe_listf)"
   ]
  },
  {
   "cell_type": "code",
   "execution_count": 102,
   "metadata": {},
   "outputs": [
    {
     "data": {
      "text/plain": [
       "[(110000, 10259, 2909),\n",
       " (110001, 10259, 2930),\n",
       " (110002, 10259, 507),\n",
       " (110003, 10259, 4295),\n",
       " (110004, 10259, 4533)]"
      ]
     },
     "execution_count": 102,
     "metadata": {},
     "output_type": "execute_result"
    }
   ],
   "source": [
    "recipe_listf[0:5]\n"
   ]
  },
  {
   "cell_type": "code",
   "execution_count": 103,
   "metadata": {},
   "outputs": [],
   "source": [
    "# Inserting in recipe table\n",
    "insert_query4 = 'INSERT INTO recipe(recipe_id,dish_id,ing_id) VALUES %s'\n",
    "psycopg2.extras.execute_values(mycursor, insert_query4, recipe_listf, template=None, page_size=10000)"
   ]
  },
  {
   "cell_type": "code",
   "execution_count": null,
   "metadata": {},
   "outputs": [],
   "source": []
  }
 ],
 "metadata": {
  "kernelspec": {
   "display_name": "Python 3",
   "language": "python",
   "name": "python3"
  },
  "language_info": {
   "codemirror_mode": {
    "name": "ipython",
    "version": 3
   },
   "file_extension": ".py",
   "mimetype": "text/x-python",
   "name": "python",
   "nbconvert_exporter": "python",
   "pygments_lexer": "ipython3",
   "version": "3.7.1"
  }
 },
 "nbformat": 4,
 "nbformat_minor": 2
}
