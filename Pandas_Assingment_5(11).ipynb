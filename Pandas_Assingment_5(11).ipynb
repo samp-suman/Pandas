{
  "nbformat": 4,
  "nbformat_minor": 0,
  "metadata": {
    "kernelspec": {
      "display_name": "Python 3",
      "language": "python",
      "name": "python3"
    },
    "language_info": {
      "codemirror_mode": {
        "name": "ipython",
        "version": 3
      },
      "file_extension": ".py",
      "mimetype": "text/x-python",
      "name": "python",
      "nbconvert_exporter": "python",
      "pygments_lexer": "ipython3",
      "version": "3.7.1"
    },
    "colab": {
      "name": "Pandas Assingment_5(11).ipynb",
      "provenance": [],
      "include_colab_link": true
    }
  },
  "cells": [
    {
      "cell_type": "markdown",
      "metadata": {
        "id": "view-in-github",
        "colab_type": "text"
      },
      "source": [
        "<a href=\"https://colab.research.google.com/github/samp-suman/Pandas/blob/master/Pandas_Assingment_5(11).ipynb\" target=\"_parent\"><img src=\"https://colab.research.google.com/assets/colab-badge.svg\" alt=\"Open In Colab\"/></a>"
      ]
    },
    {
      "cell_type": "code",
      "metadata": {
        "id": "-gvDOIHIFVXP",
        "colab_type": "code",
        "colab": {}
      },
      "source": [
        "import numpy as np\n",
        "import pandas as pd\n",
        "import matplotlib.pyplot as plt\n",
        "import seaborn as sns\n",
        "%matplotlib inline"
      ],
      "execution_count": 0,
      "outputs": []
    },
    {
      "cell_type": "code",
      "metadata": {
        "id": "sJHpIZXWFVXW",
        "colab_type": "code",
        "colab": {}
      },
      "source": [
        "match=pd.read_csv('matches.csv')\n",
        "delivery=pd.read_csv('deliveries.csv')"
      ],
      "execution_count": 0,
      "outputs": []
    },
    {
      "cell_type": "code",
      "metadata": {
        "id": "8T3FcCkyFVXa",
        "colab_type": "code",
        "colab": {}
      },
      "source": [
        "#delivery.info()"
      ],
      "execution_count": 0,
      "outputs": []
    },
    {
      "cell_type": "code",
      "metadata": {
        "id": "pWqoKa8gFVXe",
        "colab_type": "code",
        "colab": {},
        "outputId": "6873f5c6-ff93-4f86-d4d8-a2bde77e66eb"
      },
      "source": [
        "# Find out the Purple cap holders for all seasons\n",
        "# Q1- Purple cap holder\n",
        "\n",
        "new=delivery.merge(match,left_on='match_id',right_on='id')\n",
        "m1=new['dismissal_kind']!='retired hurt'\n",
        "m2=new['dismissal_kind']!='run out'\n",
        "m3=new['dismissal_kind']!='obstructing the field'\n",
        "purple_cap=new[m1&m2&m3].groupby(['season','bowler'])['player_dismissed'].count().sort_values(ascending=False).reset_index().drop_duplicates(subset='season',keep='first').sort_values('season')#[['season','bowler']]\n",
        "purple_cap"
      ],
      "execution_count": 0,
      "outputs": [
        {
          "output_type": "execute_result",
          "data": {
            "text/html": [
              "<div>\n",
              "<style scoped>\n",
              "    .dataframe tbody tr th:only-of-type {\n",
              "        vertical-align: middle;\n",
              "    }\n",
              "\n",
              "    .dataframe tbody tr th {\n",
              "        vertical-align: top;\n",
              "    }\n",
              "\n",
              "    .dataframe thead th {\n",
              "        text-align: right;\n",
              "    }\n",
              "</style>\n",
              "<table border=\"1\" class=\"dataframe\">\n",
              "  <thead>\n",
              "    <tr style=\"text-align: right;\">\n",
              "      <th></th>\n",
              "      <th>season</th>\n",
              "      <th>bowler</th>\n",
              "      <th>player_dismissed</th>\n",
              "    </tr>\n",
              "  </thead>\n",
              "  <tbody>\n",
              "    <tr>\n",
              "      <th>18</th>\n",
              "      <td>2008</td>\n",
              "      <td>Sohail Tanvir</td>\n",
              "      <td>22</td>\n",
              "    </tr>\n",
              "    <tr>\n",
              "      <th>12</th>\n",
              "      <td>2009</td>\n",
              "      <td>RP Singh</td>\n",
              "      <td>23</td>\n",
              "    </tr>\n",
              "    <tr>\n",
              "      <th>24</th>\n",
              "      <td>2010</td>\n",
              "      <td>PP Ojha</td>\n",
              "      <td>21</td>\n",
              "    </tr>\n",
              "    <tr>\n",
              "      <th>2</th>\n",
              "      <td>2011</td>\n",
              "      <td>SL Malinga</td>\n",
              "      <td>28</td>\n",
              "    </tr>\n",
              "    <tr>\n",
              "      <th>5</th>\n",
              "      <td>2012</td>\n",
              "      <td>M Morkel</td>\n",
              "      <td>25</td>\n",
              "    </tr>\n",
              "    <tr>\n",
              "      <th>0</th>\n",
              "      <td>2013</td>\n",
              "      <td>DJ Bravo</td>\n",
              "      <td>32</td>\n",
              "    </tr>\n",
              "    <tr>\n",
              "      <th>15</th>\n",
              "      <td>2014</td>\n",
              "      <td>MM Sharma</td>\n",
              "      <td>23</td>\n",
              "    </tr>\n",
              "    <tr>\n",
              "      <th>3</th>\n",
              "      <td>2015</td>\n",
              "      <td>DJ Bravo</td>\n",
              "      <td>26</td>\n",
              "    </tr>\n",
              "    <tr>\n",
              "      <th>13</th>\n",
              "      <td>2016</td>\n",
              "      <td>B Kumar</td>\n",
              "      <td>23</td>\n",
              "    </tr>\n",
              "    <tr>\n",
              "      <th>4</th>\n",
              "      <td>2017</td>\n",
              "      <td>B Kumar</td>\n",
              "      <td>26</td>\n",
              "    </tr>\n",
              "  </tbody>\n",
              "</table>\n",
              "</div>"
            ],
            "text/plain": [
              "    season         bowler  player_dismissed\n",
              "18    2008  Sohail Tanvir                22\n",
              "12    2009       RP Singh                23\n",
              "24    2010        PP Ojha                21\n",
              "2     2011     SL Malinga                28\n",
              "5     2012       M Morkel                25\n",
              "0     2013       DJ Bravo                32\n",
              "15    2014      MM Sharma                23\n",
              "3     2015       DJ Bravo                26\n",
              "13    2016        B Kumar                23\n",
              "4     2017        B Kumar                26"
            ]
          },
          "metadata": {
            "tags": []
          },
          "execution_count": 168
        }
      ]
    },
    {
      "cell_type": "code",
      "metadata": {
        "id": "8CTigvB6FVXk",
        "colab_type": "code",
        "colab": {},
        "outputId": "dc0b8c61-eb48-413c-f178-1d025b13614a"
      },
      "source": [
        "# Orange cap\n",
        "orange_cap=new.groupby(['season','batsman'])['batsman_runs'].sum().sort_values(ascending=False).reset_index().drop_duplicates(subset='season',keep='first').sort_values('season')#[['season','batsman']]\n",
        "orange_cap"
      ],
      "execution_count": 0,
      "outputs": [
        {
          "output_type": "execute_result",
          "data": {
            "text/html": [
              "<div>\n",
              "<style scoped>\n",
              "    .dataframe tbody tr th:only-of-type {\n",
              "        vertical-align: middle;\n",
              "    }\n",
              "\n",
              "    .dataframe tbody tr th {\n",
              "        vertical-align: top;\n",
              "    }\n",
              "\n",
              "    .dataframe thead th {\n",
              "        text-align: right;\n",
              "    }\n",
              "</style>\n",
              "<table border=\"1\" class=\"dataframe\">\n",
              "  <thead>\n",
              "    <tr style=\"text-align: right;\">\n",
              "      <th></th>\n",
              "      <th>season</th>\n",
              "      <th>batsman</th>\n",
              "      <th>batsman_runs</th>\n",
              "    </tr>\n",
              "  </thead>\n",
              "  <tbody>\n",
              "    <tr>\n",
              "      <th>10</th>\n",
              "      <td>2008</td>\n",
              "      <td>SE Marsh</td>\n",
              "      <td>616</td>\n",
              "    </tr>\n",
              "    <tr>\n",
              "      <th>13</th>\n",
              "      <td>2009</td>\n",
              "      <td>ML Hayden</td>\n",
              "      <td>572</td>\n",
              "    </tr>\n",
              "    <tr>\n",
              "      <th>9</th>\n",
              "      <td>2010</td>\n",
              "      <td>SR Tendulkar</td>\n",
              "      <td>618</td>\n",
              "    </tr>\n",
              "    <tr>\n",
              "      <th>11</th>\n",
              "      <td>2011</td>\n",
              "      <td>CH Gayle</td>\n",
              "      <td>608</td>\n",
              "    </tr>\n",
              "    <tr>\n",
              "      <th>2</th>\n",
              "      <td>2012</td>\n",
              "      <td>CH Gayle</td>\n",
              "      <td>733</td>\n",
              "    </tr>\n",
              "    <tr>\n",
              "      <th>3</th>\n",
              "      <td>2013</td>\n",
              "      <td>MEK Hussey</td>\n",
              "      <td>733</td>\n",
              "    </tr>\n",
              "    <tr>\n",
              "      <th>6</th>\n",
              "      <td>2014</td>\n",
              "      <td>RV Uthappa</td>\n",
              "      <td>660</td>\n",
              "    </tr>\n",
              "    <tr>\n",
              "      <th>17</th>\n",
              "      <td>2015</td>\n",
              "      <td>DA Warner</td>\n",
              "      <td>562</td>\n",
              "    </tr>\n",
              "    <tr>\n",
              "      <th>0</th>\n",
              "      <td>2016</td>\n",
              "      <td>V Kohli</td>\n",
              "      <td>973</td>\n",
              "    </tr>\n",
              "    <tr>\n",
              "      <th>7</th>\n",
              "      <td>2017</td>\n",
              "      <td>DA Warner</td>\n",
              "      <td>641</td>\n",
              "    </tr>\n",
              "  </tbody>\n",
              "</table>\n",
              "</div>"
            ],
            "text/plain": [
              "    season       batsman  batsman_runs\n",
              "10    2008      SE Marsh           616\n",
              "13    2009     ML Hayden           572\n",
              "9     2010  SR Tendulkar           618\n",
              "11    2011      CH Gayle           608\n",
              "2     2012      CH Gayle           733\n",
              "3     2013    MEK Hussey           733\n",
              "6     2014    RV Uthappa           660\n",
              "17    2015     DA Warner           562\n",
              "0     2016       V Kohli           973\n",
              "7     2017     DA Warner           641"
            ]
          },
          "metadata": {
            "tags": []
          },
          "execution_count": 169
        }
      ]
    },
    {
      "cell_type": "code",
      "metadata": {
        "id": "YszjOLZDFVXn",
        "colab_type": "code",
        "colab": {}
      },
      "source": [
        "# Q2-- Find top 10 batsman(on the basis of total runs) and top 10 bowlers(in terms of total wickets) \n",
        "#      and create a heatmap where the value col will hold the batsman runs ka sum\n",
        "\n",
        "# For top batsmans\n",
        "top_batsman=delivery.groupby('batsman')['batsman_runs'].sum().sort_values(ascending=False).head(10)\n",
        "batsman_list=top_batsman.index.tolist() #-- makig list of top batsmans"
      ],
      "execution_count": 0,
      "outputs": []
    },
    {
      "cell_type": "code",
      "metadata": {
        "id": "SPuS0NbqFVXp",
        "colab_type": "code",
        "colab": {}
      },
      "source": [
        "# For top bowlers\n",
        "m1=delivery['dismissal_kind']!='retired hurt'\n",
        "m2=delivery['dismissal_kind']!='run out'\n",
        "m3=delivery['dismissal_kind']!='obstructing the field'\n",
        "\n",
        "top_bowler=delivery[m1&m2&m3].groupby('bowler')['player_dismissed'].count().sort_values(ascending=False).head(10)\n",
        "bowler_list=top_bowler.index.tolist()#-- makig list of top bowlers"
      ],
      "execution_count": 0,
      "outputs": []
    },
    {
      "cell_type": "code",
      "metadata": {
        "id": "bJOSUA6EFVXs",
        "colab_type": "code",
        "colab": {}
      },
      "source": [
        "# Masking \n",
        "bats=delivery['batsman'].isin(batsman_list)\n",
        "bowl=delivery['bowler'].isin(bowler_list)"
      ],
      "execution_count": 0,
      "outputs": []
    },
    {
      "cell_type": "code",
      "metadata": {
        "id": "F2ryYQN4FVXu",
        "colab_type": "code",
        "colab": {}
      },
      "source": [
        "# making pivot table on masked data\n",
        "pt=delivery[bats&bowl].pivot_table(index='batsman',columns='bowler',values='batsman_runs',aggfunc='sum')"
      ],
      "execution_count": 0,
      "outputs": []
    },
    {
      "cell_type": "code",
      "metadata": {
        "id": "lTyV0hYyFVXy",
        "colab_type": "code",
        "colab": {},
        "outputId": "8eb4e404-0055-4a41-e679-bf42b88ea077"
      },
      "source": [
        "sns.heatmap(pt)"
      ],
      "execution_count": 0,
      "outputs": [
        {
          "output_type": "execute_result",
          "data": {
            "text/plain": [
              "<matplotlib.axes._subplots.AxesSubplot at 0x262ae6e2c18>"
            ]
          },
          "metadata": {
            "tags": []
          },
          "execution_count": 191
        },
        {
          "output_type": "display_data",
          "data": {
            "image/png": "[encoded data removed]",
            "text/plain": [
              "<Figure size 432x288 with 2 Axes>"
            ]
          },
          "metadata": {
            "tags": [],
            "needs_background": "light"
          }
        }
      ]
    },
    {
      "cell_type": "code",
      "metadata": {
        "id": "tD6APtHhFVX0",
        "colab_type": "code",
        "colab": {}
      },
      "source": [
        ""
      ],
      "execution_count": 0,
      "outputs": []
    }
  ]
}